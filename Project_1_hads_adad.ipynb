{
 "cells": [
  {
   "cell_type": "code",
   "execution_count": 1,
   "metadata": {},
   "outputs": [],
   "source": [
    "## 1- adad ro entekhab kone computer ba random beine 0 ta 10\n",
    "## 2-bad biad az akrbar begire entekhabesho\n",
    "## 3- age entekhab hamon bood bege k barande shodi\n",
    "## 4- age bozorgte ya kochektar k bege baz adad ro begire\n",
    "## 5- bar ejaze bede in kar ro kone\n",
    "## end\n",
    "\n",
    "\n"
   ]
  },
  {
   "cell_type": "code",
   "execution_count": 20,
   "metadata": {},
   "outputs": [
    {
     "name": "stdout",
     "output_type": "stream",
     "text": [
      "9\n"
     ]
    }
   ],
   "source": [
    "\n",
    "\n"
   ]
  },
  {
   "cell_type": "code",
   "execution_count": 27,
   "metadata": {},
   "outputs": [
    {
     "name": "stdout",
     "output_type": "stream",
     "text": [
      "Your number is higher than computer's guess\n",
      "try again!\n",
      "Your number is higher than computer's guess\n",
      "try again!\n",
      "Your number is higher than computer's guess\n",
      "try again!\n",
      "Your number is higher than computer's guess\n",
      "try again!\n",
      "Your number is higher than computer's guess\n",
      "try again!\n"
     ]
    }
   ],
   "source": [
    "import random\n",
    "\n",
    "comp_choice = random.randint(0, 11)\n",
    "\n",
    "user_choice = int(input(\"Enter your choice: \"))\n",
    "again = True\n",
    "times = 5\n",
    "\n",
    "for times in range(times):\n",
    "    if user_choice == comp_choice:\n",
    "        print(\"You win!\")\n",
    "        break\n",
    "    elif user_choice < comp_choice:\n",
    "        print(\"Your number is lower than computer's guess\")\n",
    "        print(\"try again!\")\n",
    "        continue\n",
    "    elif user_choice > comp_choice:\n",
    "        print(\"Your number is higher than computer's guess\")\n",
    "        print(\"try again!\")\n",
    "        continue\n",
    "    else:\n",
    "            print(\"Invalid input\")\n",
    "            print(\"try again!\")\n",
    "            continue\n"
   ]
  },
  {
   "cell_type": "code",
   "execution_count": 54,
   "metadata": {},
   "outputs": [],
   "source": [
    "import random\n",
    "comp_choice = random.randint(0, 11)\n",
    "\n",
    "def guess_btw_010():\n",
    "    win = False\n",
    "    again = True\n",
    "    times = 0\n",
    "    while (again and (times < 3)):\n",
    "        try:\n",
    "            user_choice = int(input(\"Enter your choice: \"))\n",
    "            if user_choice == comp_choice:\n",
    "                win = True\n",
    "                break\n",
    "            elif user_choice < comp_choice:\n",
    "                print(\"Your number is lower than computer's guess\")\n",
    "                print(\"try again!\")\n",
    "                times += 1\n",
    "            elif user_choice > comp_choice:\n",
    "                print(\"Your number is higher than computer's guess\")\n",
    "                print(\"try again!\")\n",
    "                times += 1\n",
    "        except ValueError:\n",
    "            print(\"Invalid input\")\n",
    "            print(\"try again!\")\n",
    "    if win == True:\n",
    "        print(\"You won!\")\n",
    "        print(\" the computer's choice was: \", comp_choice)\n",
    "    else:\n",
    "        print(\"You lost!\")\n"
   ]
  },
  {
   "cell_type": "code",
   "execution_count": 56,
   "metadata": {},
   "outputs": [
    {
     "name": "stdout",
     "output_type": "stream",
     "text": [
      "Your number is lower than computer's guess\n",
      "try again!\n",
      "Your number is lower than computer's guess\n",
      "try again!\n",
      "You won!\n",
      " the computer's choice was:  8\n"
     ]
    }
   ],
   "source": [
    "\n",
    "guess_btw_010()"
   ]
  },
  {
   "cell_type": "code",
   "execution_count": null,
   "metadata": {},
   "outputs": [],
   "source": []
  }
 ],
 "metadata": {
  "kernelspec": {
   "display_name": "Python 3",
   "language": "python",
   "name": "python3"
  },
  "language_info": {
   "codemirror_mode": {
    "name": "ipython",
    "version": 3
   },
   "file_extension": ".py",
   "mimetype": "text/x-python",
   "name": "python",
   "nbconvert_exporter": "python",
   "pygments_lexer": "ipython3",
   "version": "3.12.2"
  }
 },
 "nbformat": 4,
 "nbformat_minor": 2
}
