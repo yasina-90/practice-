{
 "cells": [
  {
   "cell_type": "markdown",
   "metadata": {},
   "source": [
    "# contact list project\n",
    "### creat class for contact list\n",
    "\n",
    "inside classs we can add contacts\n",
    "\n",
    "delete\n",
    "\n",
    "update\n",
    "\n",
    "search\n",
    "\n",
    "see all contacts\n",
    "\n",
    "and get output for it\n",
    "\n",
    "\n"
   ]
  },
  {
   "cell_type": "markdown",
   "metadata": {},
   "source": []
  },
  {
   "cell_type": "code",
   "execution_count": 2,
   "metadata": {},
   "outputs": [
    {
     "data": {
      "text/plain": [
       "'yasin'"
      ]
     },
     "execution_count": 2,
     "metadata": {},
     "output_type": "execute_result"
    }
   ],
   "source": [
    "class contact_list:\n",
    "    def __init__(self, name, family, phone_num):\n",
    "        self.name = name\n",
    "        self.family = family\n",
    "        self.phone_num = phone_num\n",
    "    def search(self):\n",
    "        print(\"search\")\n",
    "    def show_list(self):\n",
    "        print(\"show list\")\n",
    "    def save_contact(self):\n",
    "        print(\"save contacts\")\n",
    "    def add_contact(self):\n",
    "        print(\"enter user for it: \")\n",
    "\n",
    "\n",
    "a1 = contact_list( \"yasin\", \"hassani\", \"0123456789\" )\n",
    "a1.name\n"
   ]
  },
  {
   "cell_type": "code",
   "execution_count": null,
   "metadata": {},
   "outputs": [],
   "source": [
    "class ContactList:\n",
    "    def __init__(self):\n",
    "        self.contacts = []  # Initialize an empty list to store contacts\n",
    "\n",
    "    def search(self, search_query):\n",
    "        \"\"\"\n",
    "        Searches for a contact in the list.\n",
    "\n",
    "        Args:\n",
    "            search_query (str): Search query to find a contact.\n",
    "\n",
    "        Returns:\n",
    "            list: List of matching contacts found.\n",
    "        \"\"\"\n",
    "        if not search_query:  # If search query is empty, return all contacts\n",
    "            return self.contacts\n",
    "\n",
    "        matching_contacts = []\n",
    "        for contact in self.contacts:\n",
    "            if search_query.lower() in contact.get(\"name\", \"\").lower():\n",
    "                matching_contacts.append(contact)\n",
    "        return matching_contacts\n",
    "\n",
    "    def show_list(self):\n",
    "        \"\"\"\n",
    "        Displays the entire contact list.\n",
    "        \"\"\"\n",
    "        print(\"Contact List:\")\n",
    "        for contact in self.contacts:\n",
    "            print(f\"{contact.get('name', '')} {contact.get('family', '')} - {contact.get('phone_num', '')}\")\n",
    "\n",
    "    def add_contact(self, user_name, user_family, user_phone_num):\n",
    "        \"\"\"\n",
    "        Adds a new contact to the list.\n",
    "\n",
    "        Args:\n",
    "            user_name (str): User's first name.\n",
    "            user_family (str): User's last name.\n",
    "            user_phone_num (str): User's phone number.\n",
    "        \"\"\"\n",
    "        new_contact = {\n",
    "            \"name\": user_name,\n",
    "            \"family\": user_family,\n",
    "            \"phone_num\": user_phone_num\n",
    "        }\n",
    "        self.contacts.append(new_contact)\n",
    "        print(f\"Contact {new_contact.get('name', '')} {new_contact.get('family', '')} ({new_contact.get('phone_num', '')}) saved successfully.\")\n",
    "\n",
    "# Example usage:\n",
    "contact_list = ContactList()\n",
    "contact_list.add_contact(\"John\", \"Doe\", \"123-456-7890\")\n",
    "contact_list.add_contact(\"Jane\", \"Smith\", \"987-654-3210\")\n",
    "contact_list.show_list()\n"
   ]
  },
  {
   "cell_type": "code",
   "execution_count": 16,
   "metadata": {},
   "outputs": [],
   "source": [
    "class ContactList:\n",
    "    def __init__(self):\n",
    "        self.contacts = []  # Initialize an empty list to store contacts\n",
    "\n",
    "    def add_contact(self, user_name, user_family, user_phone_num):\n",
    "        \"\"\"\n",
    "        Adds a new contact to the list.\n",
    "\n",
    "        Args:\n",
    "            user_name (str): User's first name.\n",
    "            user_family (str): User's last name.\n",
    "            user_phone_num (str): User's phone number.\n",
    "        \"\"\"\n",
    "        new_contact = {\n",
    "            \"name\": user_name,\n",
    "            \"family\": user_family,\n",
    "            \"phone_num\": user_phone_num\n",
    "        }\n",
    "        self.contacts.append(new_contact)\n",
    "        print(f\"Contact {new_contact.get('name', '')} {new_contact.get('family', '')} ({new_contact.get('phone_num', '')}) saved successfully.\")\n",
    "\n",
    "        def show_list(self):\n",
    "        #   Displays the entire contact list. \n",
    "            print(\"Contact List:\")\n",
    "            for contact in self.contacts:\n",
    "                print(f\"{contact['name']} {contact['family']} - {contact['phone_num']}\")\n",
    "\n",
    "\n"
   ]
  },
  {
   "cell_type": "code",
   "execution_count": 17,
   "metadata": {},
   "outputs": [
    {
     "ename": "AttributeError",
     "evalue": "'ContactList' object has no attribute 'show_list'",
     "output_type": "error",
     "traceback": [
      "\u001b[1;31m---------------------------------------------------------------------------\u001b[0m",
      "\u001b[1;31mAttributeError\u001b[0m                            Traceback (most recent call last)",
      "Cell \u001b[1;32mIn[17], line 2\u001b[0m\n\u001b[0;32m      1\u001b[0m contact1 \u001b[38;5;241m=\u001b[39m ContactList()\n\u001b[1;32m----> 2\u001b[0m \u001b[43mcontact1\u001b[49m\u001b[38;5;241;43m.\u001b[39;49m\u001b[43mshow_list\u001b[49m()\n",
      "\u001b[1;31mAttributeError\u001b[0m: 'ContactList' object has no attribute 'show_list'"
     ]
    }
   ],
   "source": [
    "contact1 = ContactList()\n",
    "contact1.show_list()"
   ]
  },
  {
   "cell_type": "code",
   "execution_count": 13,
   "metadata": {},
   "outputs": [
    {
     "name": "stdout",
     "output_type": "stream",
     "text": [
      "Contact ali hassani (0123456789) saved successfully.\n"
     ]
    }
   ],
   "source": [
    "contact1.add_contact('ali', 'hassani', '0123456789')"
   ]
  },
  {
   "cell_type": "code",
   "execution_count": 54,
   "metadata": {},
   "outputs": [],
   "source": [
    "import json\n",
    "\n",
    "\n",
    "class ContactList:\n",
    "    def __init__(self, path=\"-\"):\n",
    "\n",
    "\n",
    "        self.contacts = []  # Initialize an empty list to store contacts\n",
    "\n",
    "        if path != \"-\":\n",
    "            print(\"Loadeing ...\")\n",
    "            with open(path, 'r') as f:\n",
    "                data = f.read()\n",
    "                self.contacts = json.loads(data)\n",
    "            print(\"... Loaded Successfully.\")\n",
    "\n",
    "    def add_contact(self, user_name, user_family, user_phone_num):\n",
    "        \"\"\"\n",
    "        Adds a new contact to the list.\n",
    "\n",
    "        Args:\n",
    "            user_name (str): User's first name.\n",
    "            user_family (str): User's last name.\n",
    "            user_phone_num (str): User's phone number.\n",
    "        \"\"\"\n",
    "        new_contact = {\n",
    "            \"name\": user_name,\n",
    "            \"family\": user_family,\n",
    "            \"phone_num\": user_phone_num\n",
    "        }\n",
    "        self.contacts.append(new_contact)\n",
    "        # print(f\"Contact {new_contact.get('name', '')} {new_contact.get('family', '')} ({new_contact.get('phone_num', '')}) saved successfully.\")\n",
    "\n",
    "    def search_contact(self,name):\n",
    "        result = []\n",
    "        for item in self.contacts:\n",
    "            if name.lower() == item[\"name\"].lower():\n",
    "                result.append(item)\n",
    "        else:\n",
    "            print(\"Not Found!\")\n",
    "        print(result)\n",
    "\n",
    "    def show_list(self):\n",
    "        \"\"\"\n",
    "        Displays the entire contact list.\n",
    "        \"\"\"\n",
    "        print(\"Contact List:\")\n",
    "        for contact in self.contacts:\n",
    "            print(f\"{contact['name']} {contact['family']} - {contact['phone_num']}\")\n",
    "            # print(f\"{contact} {contact} - {contact}\")\n",
    "\n",
    "    def backup(self):\n",
    "        with open(\"./contacts.json\", \"w\") as f:\n",
    "            f.write(json.dumps(self.contacts))\n",
    "        print(contact_list)\n",
    "        print(f\"Backup created successfully.\")\n",
    "\n",
    "\n"
   ]
  },
  {
   "cell_type": "code",
   "execution_count": 58,
   "metadata": {},
   "outputs": [
    {
     "name": "stdout",
     "output_type": "stream",
     "text": [
      "Loadeing ...\n",
      "... Loaded Successfully.\n"
     ]
    }
   ],
   "source": [
    "# Create an instance of the ContactList class\n",
    "contact_list = ContactList(path=\"./contacts.json\")\n",
    "\n",
    "# Add a contact using the add_contact method\n",
    "contact_list.add_contact(\"John\", \"Doe\", \"0000\")\n",
    "contact_list.add_contact(\"Jane\", \"Smith\", \"0101\")\n",
    "\n",
    "# Show the list of saved contacts\n",
    "\n",
    "contact_list.add_contact('ali', 'hassani', '1111')\n",
    "contact_list.add_contact('reza', 'alavi', '2222')\n",
    "contact_list.add_contact('jojo', 'jiji', '3333')\n",
    "contact_list.add_contact('nina', 'nono', '4444')\n",
    "\n"
   ]
  },
  {
   "cell_type": "code",
   "execution_count": 60,
   "metadata": {},
   "outputs": [
    {
     "name": "stdout",
     "output_type": "stream",
     "text": [
      "Contact List:\n",
      "John Doe - 0000\n",
      "xxxx xxxx - 5555\n",
      "Jane Smith - 0101\n",
      "ali hassani - 1111\n",
      "reza alavi - 2222\n",
      "jojo jiji - 3333\n",
      "nina nono - 4444\n",
      "John Doe - 0000\n",
      "Jane Smith - 0101\n",
      "ali hassani - 1111\n",
      "reza alavi - 2222\n",
      "jojo jiji - 3333\n",
      "nina nono - 4444\n"
     ]
    }
   ],
   "source": [
    "contact_list.show_list()"
   ]
  },
  {
   "cell_type": "code",
   "execution_count": 61,
   "metadata": {},
   "outputs": [
    {
     "name": "stdout",
     "output_type": "stream",
     "text": [
      "<__main__.ContactList object at 0x000001CDED053380>\n",
      "Backup created successfully.\n"
     ]
    }
   ],
   "source": [
    "contact_list.backup()"
   ]
  },
  {
   "cell_type": "code",
   "execution_count": 62,
   "metadata": {},
   "outputs": [
    {
     "name": "stdout",
     "output_type": "stream",
     "text": [
      "Not Found!\n",
      "[{'name': 'xxxx', 'family': 'xxxx', 'phone_num': '5555'}]\n"
     ]
    }
   ],
   "source": [
    "contact_list.search_contact('xxxx')"
   ]
  },
  {
   "cell_type": "code",
   "execution_count": null,
   "metadata": {},
   "outputs": [],
   "source": []
  },
  {
   "cell_type": "code",
   "execution_count": null,
   "metadata": {},
   "outputs": [],
   "source": []
  }
 ],
 "metadata": {
  "kernelspec": {
   "display_name": "Python 3",
   "language": "python",
   "name": "python3"
  },
  "language_info": {
   "codemirror_mode": {
    "name": "ipython",
    "version": 3
   },
   "file_extension": ".py",
   "mimetype": "text/x-python",
   "name": "python",
   "nbconvert_exporter": "python",
   "pygments_lexer": "ipython3",
   "version": "3.12.2"
  }
 },
 "nbformat": 4,
 "nbformat_minor": 2
}
