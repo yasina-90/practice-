{
 "cells": [
  {
   "cell_type": "markdown",
   "metadata": {},
   "source": [
    "Functions"
   ]
  },
  {
   "cell_type": "code",
   "execution_count": 1,
   "metadata": {},
   "outputs": [],
   "source": [
    "def hello_you(name):\n",
    "    print(f'Hello {name}')"
   ]
  },
  {
   "cell_type": "code",
   "execution_count": 2,
   "metadata": {},
   "outputs": [
    {
     "name": "stdout",
     "output_type": "stream",
     "text": [
      "Hello ali\n"
     ]
    }
   ],
   "source": [
    "name = 'ali'\n",
    "hello_you(name)"
   ]
  },
  {
   "cell_type": "code",
   "execution_count": 3,
   "metadata": {},
   "outputs": [
    {
     "name": "stdout",
     "output_type": "stream",
     "text": [
      "Hello marayam\n"
     ]
    }
   ],
   "source": [
    "name = 'marayam'\n",
    "hello_you(name)"
   ]
  },
  {
   "cell_type": "code",
   "execution_count": 18,
   "metadata": {},
   "outputs": [],
   "source": [
    "def my_sum(a, b):\n",
    "    result = a + b\n",
    "    # print(f' {a} + {b} = {result}')\n",
    "    return result"
   ]
  },
  {
   "cell_type": "code",
   "execution_count": 20,
   "metadata": {},
   "outputs": [
    {
     "name": "stdout",
     "output_type": "stream",
     "text": [
      "3\n"
     ]
    }
   ],
   "source": [
    "a1= 1\n",
    "a2 = 2\n",
    "c = my_sum(a1, a2)\n",
    "print (c)"
   ]
  },
  {
   "cell_type": "code",
   "execution_count": null,
   "metadata": {},
   "outputs": [],
   "source": []
  },
  {
   "cell_type": "code",
   "execution_count": 23,
   "metadata": {},
   "outputs": [
    {
     "name": "stdout",
     "output_type": "stream",
     "text": [
      "\n",
      " you want to exponent between 4 and 5 \n"
     ]
    },
    {
     "ename": "UnboundLocalError",
     "evalue": "local variable 'result' referenced before assignment",
     "output_type": "error",
     "traceback": [
      "\u001b[1;31m---------------------------------------------------------------------------\u001b[0m",
      "\u001b[1;31mUnboundLocalError\u001b[0m                         Traceback (most recent call last)",
      "\u001b[1;32m~\\AppData\\Local\\Temp\\ipykernel_11728\\2031520530.py\u001b[0m in \u001b[0;36m<module>\u001b[1;34m\u001b[0m\n\u001b[0;32m     51\u001b[0m     \u001b[1;32mreturn\u001b[0m \u001b[0mresult\u001b[0m\u001b[1;33m\u001b[0m\u001b[1;33m\u001b[0m\u001b[0m\n\u001b[0;32m     52\u001b[0m \u001b[1;33m\u001b[0m\u001b[0m\n\u001b[1;32m---> 53\u001b[1;33m \u001b[0mc\u001b[0m\u001b[1;33m=\u001b[0m \u001b[0msimple_calc\u001b[0m\u001b[1;33m(\u001b[0m\u001b[1;33m)\u001b[0m\u001b[1;33m\u001b[0m\u001b[1;33m\u001b[0m\u001b[0m\n\u001b[0m\u001b[0;32m     54\u001b[0m \u001b[0mprint\u001b[0m\u001b[1;33m(\u001b[0m\u001b[1;34mf'c is {c}'\u001b[0m\u001b[1;33m)\u001b[0m\u001b[1;33m\u001b[0m\u001b[1;33m\u001b[0m\u001b[0m\n",
      "\u001b[1;32m~\\AppData\\Local\\Temp\\ipykernel_11728\\2031520530.py\u001b[0m in \u001b[0;36msimple_calc\u001b[1;34m()\u001b[0m\n\u001b[0;32m     49\u001b[0m         \u001b[0mresult\u001b[0m \u001b[1;33m=\u001b[0m \u001b[0mmy_div\u001b[0m\u001b[1;33m(\u001b[0m\u001b[0mnum1\u001b[0m\u001b[1;33m,\u001b[0m\u001b[0mnum2\u001b[0m\u001b[1;33m)\u001b[0m\u001b[1;33m\u001b[0m\u001b[1;33m\u001b[0m\u001b[0m\n\u001b[0;32m     50\u001b[0m         \u001b[0mprint\u001b[0m\u001b[1;33m(\u001b[0m\u001b[1;34mf\"{num1} / {num2} = \"\u001b[0m\u001b[1;33m,\u001b[0m\u001b[0mresult\u001b[0m\u001b[1;33m)\u001b[0m\u001b[1;33m\u001b[0m\u001b[1;33m\u001b[0m\u001b[0m\n\u001b[1;32m---> 51\u001b[1;33m     \u001b[1;32mreturn\u001b[0m \u001b[0mresult\u001b[0m\u001b[1;33m\u001b[0m\u001b[1;33m\u001b[0m\u001b[0m\n\u001b[0m\u001b[0;32m     52\u001b[0m \u001b[1;33m\u001b[0m\u001b[0m\n\u001b[0;32m     53\u001b[0m \u001b[0mc\u001b[0m\u001b[1;33m=\u001b[0m \u001b[0msimple_calc\u001b[0m\u001b[1;33m(\u001b[0m\u001b[1;33m)\u001b[0m\u001b[1;33m\u001b[0m\u001b[1;33m\u001b[0m\u001b[0m\n",
      "\u001b[1;31mUnboundLocalError\u001b[0m: local variable 'result' referenced before assignment"
     ]
    }
   ],
   "source": [
    "\n",
    "def my_sum(a,b):\n",
    "    return a+b\n",
    "\n",
    "def my_sub(a,b):\n",
    "    return a-b\n",
    "\n",
    "def my_mul(a,b):\n",
    "    return a*b\n",
    "\n",
    "def my_div(a,b):\n",
    "    return a/b\n",
    "\n",
    "def my_mod(a,b):\n",
    "    return a%b\n",
    "\n",
    "def my_exp(a,b):\n",
    "    return a**b\n",
    "\n",
    "def simple_calc():\n",
    "    num1 = int(input(\"Enter first number: \"))\n",
    "    operator = input(\"\\nEnter operator: + for addition, - for subtraction, * for multiplication, / for division, % for mod, ** for exponent: \")\n",
    "    num2 = int(input(\"\\nEnter second number: \"))\n",
    "\n",
    "    # Declreation\n",
    "    if operator == \"+\":\n",
    "        print (f'\\n you want to sum between {num1} and {num2} ')\n",
    "    if operator == \"-\":\n",
    "        print (f'\\n you want to minus between {num1} and {num2} ')\n",
    "    if operator == \"*\":\n",
    "        print (f'\\n you want to multiply between {num1} and {num2} ')\n",
    "    if operator == \"/\":\n",
    "        print (f'\\n you want to divide between {num1} and {num2} ')\n",
    "    if operator == \"%\":\n",
    "        print (f'\\n you want to mod between {num1} and {num2} ')\n",
    "    if operator == \"**\":\n",
    "        print (f'\\n you want to exponent between {num1} and {num2} ')\n",
    "\n",
    "    # Operation\n",
    "    if operator == \"+\":\n",
    "        result = my_sum(num1,num2)\n",
    "        print(f\"{num1} + {num2} = \",result)\n",
    "    elif operator == \"-\":\n",
    "        result = my_sub(num1,num2)\n",
    "        print(f\"{num1} - {num2} = \",result)\n",
    "    elif operator == \"*\":\n",
    "        result = my_mul(num1,num2)\n",
    "        print(f\"{num1} * {num2} = \",result)\n",
    "    elif operator == \"/\":\n",
    "        result = my_div(num1,num2)\n",
    "        print(f\"{num1} / {num2} = \",result)\n",
    "    return result\n",
    "\n",
    "c= simple_calc()\n",
    "print(f'c is {c}')"
   ]
  },
  {
   "cell_type": "code",
   "execution_count": null,
   "metadata": {},
   "outputs": [],
   "source": []
  }
 ],
 "metadata": {
  "kernelspec": {
   "display_name": "Python 3",
   "language": "python",
   "name": "python3"
  },
  "language_info": {
   "codemirror_mode": {
    "name": "ipython",
    "version": 3
   },
   "file_extension": ".py",
   "mimetype": "text/x-python",
   "name": "python",
   "nbconvert_exporter": "python",
   "pygments_lexer": "ipython3",
   "version": "3.7.9"
  }
 },
 "nbformat": 4,
 "nbformat_minor": 2
}
