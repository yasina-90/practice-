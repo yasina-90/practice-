{
 "cells": [
  {
   "cell_type": "code",
   "execution_count": 7,
   "metadata": {},
   "outputs": [
    {
     "ename": "TypeError",
     "evalue": "list indices must be integers or slices, not str",
     "output_type": "error",
     "traceback": [
      "\u001b[1;31m---------------------------------------------------------------------------\u001b[0m",
      "\u001b[1;31mTypeError\u001b[0m                                 Traceback (most recent call last)",
      "Cell \u001b[1;32mIn[7], line 17\u001b[0m\n\u001b[0;32m     13\u001b[0m         passwords[\u001b[38;5;124m\"\u001b[39m\u001b[38;5;124mpassword\u001b[39m\u001b[38;5;124m\"\u001b[39m] \u001b[38;5;241m=\u001b[39m \u001b[38;5;124m'\u001b[39m\u001b[38;5;124mpassword\u001b[39m\u001b[38;5;124m'\u001b[39m\n\u001b[0;32m     16\u001b[0m \u001b[38;5;66;03m# Example usage\u001b[39;00m\n\u001b[1;32m---> 17\u001b[0m \u001b[43madd_pass\u001b[49m\u001b[43m(\u001b[49m\u001b[38;5;124;43m\"\u001b[39;49m\u001b[38;5;124;43mjohn\u001b[39;49m\u001b[38;5;124;43m\"\u001b[39;49m\u001b[43m,\u001b[49m\u001b[43m \u001b[49m\u001b[38;5;124;43m\"\u001b[39;49m\u001b[38;5;124;43msecret123\u001b[39;49m\u001b[38;5;124;43m\"\u001b[39;49m\u001b[43m)\u001b[49m\n\u001b[0;32m     18\u001b[0m add_pass(\u001b[38;5;124m\"\u001b[39m\u001b[38;5;124malice\u001b[39m\u001b[38;5;124m\"\u001b[39m, \u001b[38;5;124m\"\u001b[39m\u001b[38;5;124mpassword456\u001b[39m\u001b[38;5;124m\"\u001b[39m)\n\u001b[0;32m     20\u001b[0m \u001b[38;5;66;03m# Print the updated passwords dictionary\u001b[39;00m\n",
      "Cell \u001b[1;32mIn[7], line 12\u001b[0m, in \u001b[0;36madd_pass\u001b[1;34m(user, password)\u001b[0m\n\u001b[0;32m     10\u001b[0m \u001b[38;5;28;01mwith\u001b[39;00m \u001b[38;5;28mopen\u001b[39m(\u001b[38;5;124m'\u001b[39m\u001b[38;5;124m./pass.txt\u001b[39m\u001b[38;5;124m'\u001b[39m, \u001b[38;5;124m'\u001b[39m\u001b[38;5;124mw\u001b[39m\u001b[38;5;124m'\u001b[39m) \u001b[38;5;28;01mas\u001b[39;00m f:\n\u001b[0;32m     11\u001b[0m     f\u001b[38;5;241m.\u001b[39mwrite(\u001b[38;5;124mf\u001b[39m\u001b[38;5;124m\"\u001b[39m\u001b[38;5;132;01m{\u001b[39;00muser\u001b[38;5;132;01m}\u001b[39;00m\u001b[38;5;124m:\u001b[39m\u001b[38;5;132;01m{\u001b[39;00mpassword\u001b[38;5;132;01m}\u001b[39;00m\u001b[38;5;130;01m\\n\u001b[39;00m\u001b[38;5;124m\"\u001b[39m)\n\u001b[1;32m---> 12\u001b[0m     \u001b[43mpasswords\u001b[49m\u001b[43m[\u001b[49m\u001b[38;5;124;43m'\u001b[39;49m\u001b[38;5;124;43muser\u001b[39;49m\u001b[38;5;124;43m'\u001b[39;49m\u001b[43m]\u001b[49m \u001b[38;5;241m=\u001b[39m \u001b[38;5;124m'\u001b[39m\u001b[38;5;124muser\u001b[39m\u001b[38;5;124m'\u001b[39m\n\u001b[0;32m     13\u001b[0m     passwords[\u001b[38;5;124m\"\u001b[39m\u001b[38;5;124mpassword\u001b[39m\u001b[38;5;124m\"\u001b[39m] \u001b[38;5;241m=\u001b[39m \u001b[38;5;124m'\u001b[39m\u001b[38;5;124mpassword\u001b[39m\u001b[38;5;124m'\u001b[39m\n",
      "\u001b[1;31mTypeError\u001b[0m: list indices must be integers or slices, not str"
     ]
    }
   ],
   "source": [
    "\n",
    "\n",
    "# file ro besaz\n",
    "# password vared kon\n",
    "# save kon\n",
    "# modular kon\n",
    "\n",
    "\n",
    "passwords =[]\n",
    "\n",
    "def add_pass(user, password):\n",
    "    with open('./pass.txt', 'w') as f:\n",
    "        f.write(f\"{user}:{password}\\n\")\n",
    "        passwords['user'] = 'user'\n",
    "        passwords[\"password\"] = 'password'\n",
    "\n",
    "\n",
    "# Example usage\n",
    "add_pass(\"john\", \"secret123\")\n",
    "add_pass(\"alice\", \"password456\")\n",
    "\n",
    "# Print the updated passwords dictionary\n"
   ]
  },
  {
   "cell_type": "code",
   "execution_count": 6,
   "metadata": {},
   "outputs": [
    {
     "name": "stdout",
     "output_type": "stream",
     "text": [
      "[]\n"
     ]
    }
   ],
   "source": [
    "print(passwords)"
   ]
  },
  {
   "cell_type": "code",
   "execution_count": 21,
   "metadata": {},
   "outputs": [
    {
     "name": "stdout",
     "output_type": "stream",
     "text": [
      "{'john': 'secret123', 'alice': 'password456', 'ali': '1111', 'hasan': '2222', 'ssss': 'ssss', 'q': 'q', 'iiii': 'pppp', 'oooo': 'kkkk'}\n"
     ]
    }
   ],
   "source": [
    "# Create a file\n",
    "# Prompt for a password\n",
    "# Save the password\n",
    "# Modularize the code\n",
    "\n",
    "\n",
    "\n",
    "def add_pass(user, password):\n",
    "    with open('./pass.txt', 'a') as f:\n",
    "        f.write(f\"{user}:{password}\\n\")\n",
    "\n",
    "\n",
    "# Example usage\n",
    "add_pass(\"john\", \"secret123\")\n",
    "add_pass(\"alice\", \"password456\")\n",
    "\n",
    "# Print the updated passwords dictionary\n",
    "print(passwords)\n"
   ]
  },
  {
   "cell_type": "code",
   "execution_count": 26,
   "metadata": {},
   "outputs": [
    {
     "ename": "ValueError",
     "evalue": "not enough values to unpack (expected 2, got 1)",
     "output_type": "error",
     "traceback": [
      "\u001b[1;31m---------------------------------------------------------------------------\u001b[0m",
      "\u001b[1;31mValueError\u001b[0m                                Traceback (most recent call last)",
      "Cell \u001b[1;32mIn[26], line 11\u001b[0m\n\u001b[0;32m      9\u001b[0m \u001b[38;5;28;01mfor\u001b[39;00m item \u001b[38;5;129;01min\u001b[39;00m f:\n\u001b[0;32m     10\u001b[0m     item \u001b[38;5;241m=\u001b[39m item\u001b[38;5;241m.\u001b[39mrstrip()\n\u001b[1;32m---> 11\u001b[0m     username, password \u001b[38;5;241m=\u001b[39m item\u001b[38;5;241m.\u001b[39msplit(\u001b[38;5;124m'\u001b[39m\u001b[38;5;124m:\u001b[39m\u001b[38;5;124m'\u001b[39m)\n\u001b[0;32m     12\u001b[0m     \u001b[38;5;28mprint\u001b[39m(\u001b[38;5;124mf\u001b[39m\u001b[38;5;124m\"\u001b[39m\u001b[38;5;124mUSER: \u001b[39m\u001b[38;5;132;01m{\u001b[39;00musername\u001b[38;5;132;01m}\u001b[39;00m\u001b[38;5;124m , PASS: \u001b[39m\u001b[38;5;132;01m{\u001b[39;00mpassword\u001b[38;5;132;01m}\u001b[39;00m\u001b[38;5;124m\"\u001b[39m)\n\u001b[0;32m     13\u001b[0m \u001b[38;5;66;03m# print(f.read())\u001b[39;00m\n",
      "\u001b[1;31mValueError\u001b[0m: not enough values to unpack (expected 2, got 1)"
     ]
    }
   ],
   "source": [
    "while True:\n",
    "    user = input(\"Enter a: append, v: view, q: quit\")\n",
    "    if user == 'a':\n",
    "        input_user = input(\"Enter your user: \")\n",
    "        input_pass = input(\"Enter your password: \")\n",
    "        add_pass(input_user, input_pass)\n",
    "    elif user == 'v':\n",
    "        with open('./pass.txt', 'r') as f:\n",
    "            for item in f:\n",
    "                item = item.rstrip()\n",
    "                username, password = item.split(':')\n",
    "                print(f\"USER: {username} , PASS: {password}\")\n",
    "            # print(f.read())\n",
    "    elif user == 'q':\n",
    "        print(\"quit\")\n",
    "        break\n",
    "    else:\n",
    "        print(\"NO! wrong input!!!\")\n"
   ]
  },
  {
   "cell_type": "code",
   "execution_count": 27,
   "metadata": {},
   "outputs": [
    {
     "name": "stdout",
     "output_type": "stream",
     "text": [
      "Invalid entry: \n",
      "USER: aaa, PASS: bbb\n",
      "USER: qqq, PASS: 111\n",
      "USER: www, PASS: 333\n",
      "Quit\n"
     ]
    }
   ],
   "source": [
    "# Create a file\n",
    "# Prompt for a password\n",
    "# Save the password\n",
    "# Modularize the code\n",
    "\n",
    "passwords = {}\n",
    "\n",
    "def add_pass(user, password):\n",
    "    with open('./pass.txt', 'a') as f:\n",
    "        f.write(f\"{user}:{password}\\n\")\n",
    "        passwords[user] = password\n",
    "\n",
    "def view_pass():\n",
    "    with open('./pass.txt', 'r') as f:\n",
    "        for item in f:\n",
    "            item = item.rstrip()\n",
    "            user_pass = item.split(':')\n",
    "            if len(user_pass) == 2:\n",
    "                username, password = user_pass\n",
    "                print(f\"USER: {username}, PASS: {password}\")\n",
    "            else:\n",
    "                print(f\"Invalid entry: {item}\")\n",
    "\n",
    "while True:\n",
    "    user_input = input(\"Enter 'a' to append, 'v' to view, or 'q' to quit: \")\n",
    "    if user_input == 'a':\n",
    "        input_user = input(\"Enter your user: \")\n",
    "        input_pass = input(\"Enter your password: \")\n",
    "        add_pass(input_user, input_pass)\n",
    "    elif user_input == 'v':\n",
    "        view_pass()\n",
    "    elif user_input == 'q':\n",
    "        print(\"Quit\")\n",
    "        break\n",
    "    else:\n",
    "        print(\"Invalid input! Please try again.\")\n"
   ]
  },
  {
   "cell_type": "code",
   "execution_count": null,
   "metadata": {},
   "outputs": [],
   "source": []
  }
 ],
 "metadata": {
  "kernelspec": {
   "display_name": "Python 3",
   "language": "python",
   "name": "python3"
  },
  "language_info": {
   "codemirror_mode": {
    "name": "ipython",
    "version": 3
   },
   "file_extension": ".py",
   "mimetype": "text/x-python",
   "name": "python",
   "nbconvert_exporter": "python",
   "pygments_lexer": "ipython3",
   "version": "3.12.2"
  }
 },
 "nbformat": 4,
 "nbformat_minor": 2
}
