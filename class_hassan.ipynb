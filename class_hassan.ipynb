{
 "cells": [
  {
   "cell_type": "markdown",
   "metadata": {},
   "source": [
    "Class"
   ]
  },
  {
   "cell_type": "code",
   "execution_count": null,
   "metadata": {},
   "outputs": [],
   "source": [
    "class ensan:\n",
    "    def __init__(self, name, age, gender):\n",
    "        self.name = name\n",
    "        self.age = age\n",
    "        self.gender = gender\n",
    "\n",
    "    def moarefi(self):\n",
    "        print(f\"I man {self.name} and my age is {self.age} and my gender is {self.gender}\")\n",
    "    def eat(self, food):\n",
    "        print(f\"{self.name} eat {food}\")\n",
    "    def sleep(self):\n",
    "        print(f\"{self.name} is sleeping\")\n"
   ]
  },
  {
   "cell_type": "code",
   "execution_count": null,
   "metadata": {},
   "outputs": [],
   "source": [
    "st1 =ensan(\"ali\", 20, \"male\")\n",
    "st2 =ensan(\"zahra\", 22, \"female\")\n"
   ]
  },
  {
   "cell_type": "code",
   "execution_count": null,
   "metadata": {},
   "outputs": [],
   "source": [
    "st1.moarefi()\n"
   ]
  },
  {
   "cell_type": "code",
   "execution_count": 2,
   "metadata": {},
   "outputs": [],
   "source": [
    "class animal:\n",
    "    def __init__(self, name: str, age: int, type: str):\n",
    "        \"\"\"\n",
    "    initializes the animal object with the given name, age, and type\n",
    "    :param name: the name of the animal\n",
    "    :param age: the age of the animal\n",
    "    :param type: the type of the animal (e.g. mammal, reptile, etc.)\n",
    "    \"\"\"\n",
    "    self.name = name\n",
    "    self.age = age\n",
    "    self.type = type\n",
    "    def sleep(self):\n",
    "        print(f'{self.name} is sleeping')\n",
    "    def walk(self):\n",
    "        print(f'{self.name} is walking')\n",
    "    def eat(self,food):\n",
    "        print(f'{self.name} is eating {food}')\n",
    "    def run(self):\n",
    "        print(f'{self.name} is running')\n"
   ]
  },
  {
   "cell_type": "code",
   "execution_count": 5,
   "metadata": {},
   "outputs": [
    {
     "name": "stdout",
     "output_type": "stream",
     "text": [
      "doggy is sleeping\n",
      "doggy is walking\n",
      "doggy is eating fish\n",
      "doggy is running\n"
     ]
    }
   ],
   "source": [
    "animal1 = animal(\"doggy\", 3, \"mammal\")\n",
    "animal1.sleep()\n",
    "animal1.walk()\n",
    "animal1.eat(\"fish\")\n",
    "animal1.run()"
   ]
  },
  {
   "cell_type": "code",
   "execution_count": 9,
   "metadata": {},
   "outputs": [],
   "source": [
    "animal1.name='cat'"
   ]
  },
  {
   "cell_type": "code",
   "execution_count": 10,
   "metadata": {},
   "outputs": [
    {
     "data": {
      "text/plain": [
       "'cat'"
      ]
     },
     "execution_count": 10,
     "metadata": {},
     "output_type": "execute_result"
    }
   ],
   "source": [
    "animal1.name"
   ]
  },
  {
   "cell_type": "code",
   "execution_count": 11,
   "metadata": {},
   "outputs": [],
   "source": [
    "animal1.age=4"
   ]
  },
  {
   "cell_type": "code",
   "execution_count": 12,
   "metadata": {},
   "outputs": [
    {
     "name": "stdout",
     "output_type": "stream",
     "text": [
      "cat is eating fish\n"
     ]
    }
   ],
   "source": [
    "animal1.eat(\"fish\")"
   ]
  },
  {
   "cell_type": "code",
   "execution_count": 14,
   "metadata": {},
   "outputs": [
    {
     "name": "stdout",
     "output_type": "stream",
     "text": [
      "cat2 is eating fish\n"
     ]
    }
   ],
   "source": [
    "animal2 = animal(\"cat2\", 4, \"mammal\")\n",
    "\n",
    "animal2.eat(\"fish\")"
   ]
  },
  {
   "cell_type": "code",
   "execution_count": null,
   "metadata": {},
   "outputs": [],
   "source": []
  }
 ],
 "metadata": {
  "kernelspec": {
   "display_name": "Python 3",
   "language": "python",
   "name": "python3"
  },
  "language_info": {
   "codemirror_mode": {
    "name": "ipython",
    "version": 3
   },
   "file_extension": ".py",
   "mimetype": "text/x-python",
   "name": "python",
   "nbconvert_exporter": "python",
   "pygments_lexer": "ipython3",
   "version": "3.7.9"
  }
 },
 "nbformat": 4,
 "nbformat_minor": 2
}
