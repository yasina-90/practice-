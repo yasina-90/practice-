{
 "cells": [
  {
   "cell_type": "code",
   "execution_count": null,
   "metadata": {},
   "outputs": [],
   "source": []
  },
  {
   "cell_type": "markdown",
   "metadata": {},
   "source": [
    "# guess letters\n",
    "# select a choice from the list of friuts\n",
    "# then ask the user for input guess\n",
    "# if the guessed letter is correct show the correct letter guesses\n",
    "# if number of tries are more than these number of letters \n",
    "# show the number of tries and the letters guessed and show the answer"
   ]
  },
  {
   "cell_type": "code",
   "execution_count": 8,
   "metadata": {},
   "outputs": [],
   "source": [
    "# import libraries\n",
    "import random"
   ]
  },
  {
   "cell_type": "code",
   "execution_count": 9,
   "metadata": {},
   "outputs": [
    {
     "name": "stdout",
     "output_type": "stream",
     "text": [
      "orange\n"
     ]
    }
   ],
   "source": []
  },
  {
   "cell_type": "code",
   "execution_count": 41,
   "metadata": {},
   "outputs": [
    {
     "name": "stdout",
     "output_type": "stream",
     "text": [
      "mango\n",
      "-----\n",
      "please insert text input\n",
      "m----\n",
      "please insert text input\n",
      "ma---\n",
      "please insert text input\n",
      "man--\n",
      "please insert text input\n",
      "man-o\n",
      "please insert text input\n",
      "you won!\n",
      "the word was MANGO\n"
     ]
    }
   ],
   "source": [
    "# Initialize the indexx variable\n",
    "fruits = [\"apple\", \"banana\", \"cherry\", \"date\", \"orange\", \"kiwi\", \"melon\", \"mango\", \"peach\", \"pineapple\"]\n",
    "comp_choice = random.choice(fruits)  # randomly select a fruit from\n",
    "print(comp_choice)\n",
    "\n",
    "indexx = \"-\" * len(comp_choice)\n",
    "# print(indexx)\n",
    "\n",
    "# The letter you've chosen (choosed)\n",
    "# choosed = \"r\"\n",
    "guess_length = len(comp_choice)\n",
    "\n",
    "while guess_length > 0:\n",
    "    print(indexx)\n",
    "    try:\n",
    "        choosed0 = input(\"Enter your letter:\")\n",
    "    except:\n",
    "        print(\"please insert text input\")\n",
    "        continue\n",
    "    choosed =choosed0.lower()\n",
    "    print(\"please insert text input\")\n",
    "    if choosed in comp_choice:\n",
    "        # print('YES, THIS IS IN IT')\n",
    "        correct_one = comp_choice.index(choosed)  # Get the index of the chosen letter\n",
    "        new_indexx = indexx[:correct_one]+choosed+indexx[correct_one+1:]\n",
    "        indexx = new_indexx\n",
    "        guess_length -= 1\n",
    "    else:\n",
    "        # print('NO, NOT HERE')\n",
    "        guess_length -= 1\n",
    "if comp_choice == new_indexx:\n",
    "    print(\"you won!\")\n",
    "    print(f\"the word was {comp_choice.upper()}\")\n",
    "else:\n",
    "    print(\"Try again next time!\")\n"
   ]
  },
  {
   "cell_type": "code",
   "execution_count": 40,
   "metadata": {},
   "outputs": [
    {
     "name": "stdout",
     "output_type": "stream",
     "text": [
      "They both are correct: k and k\n",
      "They both are correct: i and i\n",
      "They both are correct: w and w\n",
      "They both are correct: i and i\n",
      "The two strings are equal!\n"
     ]
    }
   ],
   "source": [
    "x1 = 'kiwi'\n",
    "x2 = 'kiwi'\n",
    "\n",
    "comp_choice = [(i, x1[i], x2[i]) for i in range(len(x1))]\n",
    "\n",
    "for index, item in enumerate(comp_choice):\n",
    "    if x1[index] == x2[index]:\n",
    "        print(f'They both are correct: {x1[index]} and {x2[index]}')\n",
    "    else:\n",
    "        print(\"Try again!\")\n",
    "        break\n",
    "\n",
    "if x1 == x2:\n",
    "    print(\"The two strings are equal!\")\n",
    "else:\n",
    "    print(\"The two strings are not equal.\")"
   ]
  },
  {
   "cell_type": "code",
   "execution_count": 1,
   "metadata": {},
   "outputs": [
    {
     "name": "stdout",
     "output_type": "stream",
     "text": [
      "-----\n",
      "wrong => remained guesses: -----\n",
      "\n",
      "wrong => remained guesses: -----\n",
      "\n",
      "perfect => -e---\n",
      "\n",
      "wrong => remained guesses: -e---\n",
      "\n",
      "perfect => pe---\n",
      "\n",
      "perfect => pea--\n",
      "\n",
      "perfect => peac-\n",
      "\n",
      "perfect => peach\n",
      "\n",
      "you won!\n"
     ]
    }
   ],
   "source": [
    "# correced version\n",
    "import random\n",
    "\n",
    "fruits = [\"apple\", \"banana\", \"cherry\", \"date\", \"orange\", \"kiwi\", \"melon\", \"mango\", \"peach\", \"pineapple\"]\n",
    "\n",
    "selected_name = random.choice(fruits).lower()\n",
    "\n",
    "guess_count = len(selected_name)\n",
    "guessed_list =[\"-\"]*len(selected_name)\n",
    "current_guess = \"\".join(guessed_list)\n",
    "print(current_guess)\n",
    "\n",
    "while guess_count > 0:\n",
    "    guessed_char = input(\"Guess a letter: \\n\")\n",
    "    if guessed_char.isalpha():\n",
    "        if guessed_char in selected_name:\n",
    "            if guessed_char in guessed_list:\n",
    "                print(\"you have guessed before, try new character\\n\")\n",
    "            else:\n",
    "                for idx, char in enumerate(selected_name):\n",
    "                    if char == guessed_char:\n",
    "                        guessed_list[idx] = guessed_char\n",
    "                current_guess = ''.join(guessed_list)\n",
    "                print(f\"perfect => {current_guess}\\n\")\n",
    "\n",
    "                if not \"-\" in guessed_list:\n",
    "                    print(\"you won!\")\n",
    "                    break\n",
    "        else:\n",
    "            guess_count -= 1\n",
    "            print(f\"wrong => remained guesses: {current_guess}\\n\")\n",
    "\n",
    "    else:\n",
    "        print(\"Please enter correct letter\")\n",
    "\n",
    "\n"
   ]
  },
  {
   "cell_type": "code",
   "execution_count": null,
   "metadata": {},
   "outputs": [],
   "source": []
  }
 ],
 "metadata": {
  "kernelspec": {
   "display_name": "Python 3",
   "language": "python",
   "name": "python3"
  },
  "language_info": {
   "codemirror_mode": {
    "name": "ipython",
    "version": 3
   },
   "file_extension": ".py",
   "mimetype": "text/x-python",
   "name": "python",
   "nbconvert_exporter": "python",
   "pygments_lexer": "ipython3",
   "version": "3.12.2"
  }
 },
 "nbformat": 4,
 "nbformat_minor": 2
}
