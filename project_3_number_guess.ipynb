{
 "cells": [
  {
   "cell_type": "markdown",
   "metadata": {},
   "source": [
    "# number guess project"
   ]
  },
  {
   "cell_type": "markdown",
   "metadata": {},
   "source": [
    "1- adade random va operand random besaz\n",
    "\n",
    "2- az karabr vorodi begir\n",
    "\n",
    "3- badesh bia javab check kon doroste ya na\n",
    "\n",
    "4- bad tedade 5 soal bokon age hame ro dorst gof afarib bego\n",
    "\n",
    "    agar na tedade doprost ghalato behesh bego\n",
    "5- bad bayad dar zamane mahdod bege in javab haro\n"
   ]
  },
  {
   "cell_type": "code",
   "execution_count": 1,
   "metadata": {},
   "outputs": [
    {
     "data": {
      "text/plain": [
       "<module 'time' (built-in)>"
      ]
     },
     "execution_count": 1,
     "metadata": {},
     "output_type": "execute_result"
    }
   ],
   "source": [
    "import random\n",
    "\n",
    "#The`random` module in Python provides functions for generating random numbers. \n",
    "# It allows you to perform tasks such as generating random integers,\n",
    "# selecting random elements from a list, shuffling sequences, and more.\n",
    "# It is commonly used in applications where randomness is required, such as \n",
    "# simulations, games, and statistical analysis.\n",
    "# random\n",
    "\n",
    "import time\n",
    "\n",
    "#The `time` module in Python provides various time-related functions.\n",
    "# It allows you to work with time, measure time intervals, \n",
    "# and perform operations related to time, such as getting \n",
    "# the current time, pausing program execution for a specified \n",
    "# amount of time, and converting between different time representations. \n",
    "# It is commonly used in applications where time-related operations are required, \n",
    "# such as scheduling tasks, measuring performance, and handling timestamps."
   ]
  },
  {
   "cell_type": "code",
   "execution_count": 16,
   "metadata": {},
   "outputs": [],
   "source": [
    "operands = ['+','-','*']\n",
    "num_1 = random.randrange(1,9)\n",
    "num_2 = random.randrange(1,9)\n",
    "op_choice = random.choice(operands)\n"
   ]
  },
  {
   "cell_type": "code",
   "execution_count": 29,
   "metadata": {},
   "outputs": [
    {
     "name": "stdout",
     "output_type": "stream",
     "text": [
      "what is the answer to : \n",
      " {num_1} {op_choice} {num_2}= ? \n"
     ]
    },
    {
     "ename": "ValueError",
     "evalue": "invalid literal for int() with base 10: ''",
     "output_type": "error",
     "traceback": [
      "\u001b[1;31m---------------------------------------------------------------------------\u001b[0m",
      "\u001b[1;31mValueError\u001b[0m                                Traceback (most recent call last)",
      "Cell \u001b[1;32mIn[29], line 2\u001b[0m\n\u001b[0;32m      1\u001b[0m \u001b[38;5;28mprint\u001b[39m(\u001b[38;5;124m\"\u001b[39m\u001b[38;5;124mwhat is the answer to : \u001b[39m\u001b[38;5;130;01m\\n\u001b[39;00m\u001b[38;5;124m \u001b[39m\u001b[38;5;132;01m{num_1}\u001b[39;00m\u001b[38;5;124m \u001b[39m\u001b[38;5;132;01m{op_choice}\u001b[39;00m\u001b[38;5;124m \u001b[39m\u001b[38;5;132;01m{num_2}\u001b[39;00m\u001b[38;5;124m= ? \u001b[39m\u001b[38;5;124m\"\u001b[39m)\n\u001b[1;32m----> 2\u001b[0m user_guess \u001b[38;5;241m=\u001b[39m \u001b[38;5;28;43mint\u001b[39;49m\u001b[43m(\u001b[49m\u001b[38;5;28;43minput\u001b[39;49m\u001b[43m(\u001b[49m\u001b[38;5;124;43m\"\u001b[39;49m\u001b[38;5;124;43mPlease Enter the answer:\u001b[39;49m\u001b[38;5;130;43;01m\\n\u001b[39;49;00m\u001b[38;5;124;43m\"\u001b[39;49m\u001b[43m)\u001b[49m\u001b[43m)\u001b[49m\n\u001b[0;32m      4\u001b[0m \u001b[38;5;28;01mif\u001b[39;00m op_choice \u001b[38;5;241m==\u001b[39m \u001b[38;5;124m'\u001b[39m\u001b[38;5;124m+\u001b[39m\u001b[38;5;124m'\u001b[39m:\n\u001b[0;32m      5\u001b[0m     \u001b[38;5;28mprint\u001b[39m (\u001b[38;5;124mf\u001b[39m\u001b[38;5;124m\"\u001b[39m\u001b[38;5;132;01m{\u001b[39;00mnum_1\u001b[38;5;132;01m}\u001b[39;00m\u001b[38;5;124m \u001b[39m\u001b[38;5;132;01m{\u001b[39;00mop_choice\u001b[38;5;132;01m}\u001b[39;00m\u001b[38;5;124m \u001b[39m\u001b[38;5;132;01m{\u001b[39;00mnum_2\u001b[38;5;132;01m}\u001b[39;00m\u001b[38;5;124m=\u001b[39m\u001b[38;5;124m\"\u001b[39m)\n",
      "\u001b[1;31mValueError\u001b[0m: invalid literal for int() with base 10: ''"
     ]
    }
   ],
   "source": [
    "\n",
    "print(\"what is the answer to : \\n {num_1} {op_choice} {num_2}= ? \")\n",
    "user_guess = int(input(\"Please Enter the answer:\\n\"))\n",
    "\n",
    "if op_choice == '+':\n",
    "    print (f\"{num_1} {op_choice} {num_2}=\")\n",
    "    print(num_1 + num_2)\n",
    "elif op_choice == '-':\n",
    "    print (f\"{num_1} {op_choice} {num_2}=\")\n",
    "    print(num_1 - num_2)\n",
    "elif op_choice == '*':\n",
    "    print (f\"{num_1} {op_choice} {num_2}=\")\n",
    "    print(num_1 * num_2)\n"
   ]
  },
  {
   "cell_type": "code",
   "execution_count": 63,
   "metadata": {},
   "outputs": [
    {
     "name": "stdout",
     "output_type": "stream",
     "text": [
      "Correct!\n",
      "Correct!\n",
      "You got 2 out of 2 questions correct\n",
      "lose! try again!\n"
     ]
    }
   ],
   "source": [
    "import random\n",
    "\n",
    "def generate_question():\n",
    "    operands = ['+', '-', '*']\n",
    "    num1 = random.randint(1, 9)\n",
    "    num2 = random.randint(1, 9)\n",
    "    operan_choiced = random.choice(operands)\n",
    "\n",
    "    question = (f\"what is the answer of  {num1} {operan_choiced} {num2} = ? \")\n",
    "    if operan_choiced == '+':\n",
    "        answer = num1 + num2\n",
    "    elif operan_choiced == '-':\n",
    "        answer = num1 - num2\n",
    "    else:\n",
    "        answer = num1 * num2\n",
    "\n",
    "    return question, answer\n",
    "\n",
    "# def check_answer(user_guess, answer):\n",
    "#     return user_guess == answer# The expression `user_guess == answer` is checking if the value of `user_guess` is equal\n",
    "#     # to the value of `answer`. It returns `True` if they are equal, and `False` otherwise.\n",
    "#     # This comparison is used in the `check_answer` function to determine if the user's guess\n",
    "#     # matches the correct answer to the question.\n",
    "\n",
    "# def print_results(num_correct, questions):\n",
    "#     print(f\"You got {num_correct} out of {len(questions)} questions correct\")\n",
    "#     for q in questions:\n",
    "#         print(f\"{q[0]} = {q[1]}\")\n",
    "\n",
    "\n",
    "def play_game():\n",
    "    questions = []\n",
    "    num_correct = 0\n",
    "    num_questions = 2\n",
    "\n",
    "    for i in range(num_questions):\n",
    "        question, answer = generate_question()\n",
    "        questions.append((question, answer))\n",
    "\n",
    "        user_guess = int(input(question + \" = \"))\n",
    "        is_correct = user_guess == answer\n",
    "\n",
    "        if is_correct:\n",
    "            print(\"Correct!\")\n",
    "            num_correct += 1\n",
    "        else:\n",
    "            print(\"Incorrect!\")\n",
    "            print(\"\\n try again!\")\n",
    "    print(f\"You got {num_correct} out of {len(questions)} questions correct\")\n",
    "    if num_correct > len(questions):\n",
    "        print(\"You Won!\")\n",
    "    else:\n",
    "        print(\"lose! try again!\")\n",
    "\n",
    "\n",
    "play_game()"
   ]
  },
  {
   "cell_type": "code",
   "execution_count": 62,
   "metadata": {},
   "outputs": [
    {
     "data": {
      "text/plain": [
       "('what is the answer of  8 - 6 = ? ', 2)"
      ]
     },
     "execution_count": 62,
     "metadata": {},
     "output_type": "execute_result"
    }
   ],
   "source": [
    "generate_question()"
   ]
  },
  {
   "cell_type": "code",
   "execution_count": null,
   "metadata": {},
   "outputs": [],
   "source": []
  }
 ],
 "metadata": {
  "kernelspec": {
   "display_name": "Python 3",
   "language": "python",
   "name": "python3"
  },
  "language_info": {
   "codemirror_mode": {
    "name": "ipython",
    "version": 3
   },
   "file_extension": ".py",
   "mimetype": "text/x-python",
   "name": "python",
   "nbconvert_exporter": "python",
   "pygments_lexer": "ipython3",
   "version": "3.12.2"
  }
 },
 "nbformat": 4,
 "nbformat_minor": 2
}
