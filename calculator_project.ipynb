{
 "cells": [
  {
   "cell_type": "code",
   "execution_count": 1,
   "metadata": {},
   "outputs": [],
   "source": [
    "def simple_calc():\n",
    "    num1 = int(input(\"Enter first number: \"))\n",
    "    operator = input(\"Enter operator: + or - or / or *\")\n",
    "    num2 = int(input(\"Enter second number: \"))\n",
    "\n",
    "    # Declreation\n",
    "    if operator == \"+\":\n",
    "        print (f' you want to {operator} between {num1} and {num2} ')\n",
    "    if operator == \"-\":\n",
    "        print (f' you want to {operator} between {num1} and {num2} ')\n",
    "    if operator == \"*\":\n",
    "        print (f' you want to {operator} between {num1} and {num2} ')\n",
    "    if operator == \"/\":\n",
    "        print (f' you want to {operator} between {num1} and {num2} ')\n",
    "    else:\n",
    "        print(\"Invalid operator\")\n",
    "    # Operation\n",
    "    if operator == \"+\":\n",
    "        print(f\"{num1} + {num2} = \",num1+num2)\n",
    "    elif operator == \"-\":\n",
    "        print(f\"{num1} - {num2} = \",num1-num2)\n",
    "    elif operator == \"*\":\n",
    "        print(f\"{num1} * {num2} = \",num1*num2)\n",
    "    elif operator == \"/\":\n",
    "        print(f\"{num1} / {num2} = \",num1/num2)\n",
    "    else:\n",
    "        print(\"Invalid operator\")"
   ]
  },
  {
   "cell_type": "code",
   "execution_count": 2,
   "metadata": {},
   "outputs": [],
   "source": [
    "def simple_calc():\n",
    "    num1 = int(input(\"Enter first number: \"))\n",
    "    operator = input(\"Enter operator: + or - or / or *\")\n",
    "    num2 = int(input(\"Enter second number: \"))\n",
    "\n",
    "    # Declreation\n",
    "    if operator == \"+\":\n",
    "        print (f' you want to sum between {num1} and {num2} ')\n",
    "    if operator == \"-\":\n",
    "        print (f' you want to minus between {num1} and {num2} ')\n",
    "    if operator == \"*\":\n",
    "        print (f' you want to multiply between {num1} and {num2} ')\n",
    "    if operator == \"/\":\n",
    "        print (f' you want to divide between {num1} and {num2} ')\n",
    "\n",
    "    # Operation\n",
    "    if operator == \"+\":\n",
    "        print(f\"{num1} + {num2} = \",num1+num2)\n",
    "    elif operator == \"-\":\n",
    "        print(f\"{num1} - {num2} = \",num1-num2)\n",
    "    elif operator == \"*\":\n",
    "        print(f\"{num1} * {num2} = \",num1*num2)\n",
    "    elif operator == \"/\":\n",
    "        print(f\"{num1} / {num2} = \",num1/num2)\n",
    "    return 0\n"
   ]
  },
  {
   "cell_type": "code",
   "execution_count": 3,
   "metadata": {},
   "outputs": [
    {
     "name": "stdout",
     "output_type": "stream",
     "text": [
      " you want to sum between 10 and 5 \n",
      "10 + 5 =  15\n"
     ]
    },
    {
     "data": {
      "text/plain": [
       "0"
      ]
     },
     "execution_count": 3,
     "metadata": {},
     "output_type": "execute_result"
    }
   ],
   "source": [
    "simple_calc()"
   ]
  },
  {
   "cell_type": "markdown",
   "metadata": {},
   "source": []
  }
 ],
 "metadata": {
  "kernelspec": {
   "display_name": "Python 3",
   "language": "python",
   "name": "python3"
  },
  "language_info": {
   "codemirror_mode": {
    "name": "ipython",
    "version": 3
   },
   "file_extension": ".py",
   "mimetype": "text/x-python",
   "name": "python",
   "nbconvert_exporter": "python",
   "pygments_lexer": "ipython3",
   "version": "3.12.2"
  }
 },
 "nbformat": 4,
 "nbformat_minor": 2
}
